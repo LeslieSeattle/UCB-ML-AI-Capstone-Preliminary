{
 "cells": [
  {
   "cell_type": "code",
   "execution_count": 27,
   "id": "cd010004",
   "metadata": {},
   "outputs": [],
   "source": [
    "## Import Python libraries and functions\n",
    "import pandas as pd"
   ]
  },
  {
   "cell_type": "markdown",
   "id": "aac39b9a",
   "metadata": {},
   "source": [
    "### IMPORT DATA SETS"
   ]
  },
  {
   "cell_type": "code",
   "execution_count": 28,
   "id": "43e62bca",
   "metadata": {},
   "outputs": [],
   "source": [
    "# 20 features used in UW project\n",
    "Data_UW_20 = pd.read_csv('Data_UW_20.csv')\n",
    "\n",
    "# 218 features from NHANES dataset\n",
    "Data_NH_200 = pd.read_csv('Data_NHANES_200.csv')"
   ]
  },
  {
   "cell_type": "markdown",
   "id": "cc060e4f",
   "metadata": {},
   "source": [
    "### VIEW ORIGINAL DATA SET FEATURES"
   ]
  },
  {
   "cell_type": "code",
   "execution_count": 29,
   "id": "609bfb07",
   "metadata": {},
   "outputs": [
    {
     "name": "stdout",
     "output_type": "stream",
     "text": [
      "<class 'pandas.core.frame.DataFrame'>\n",
      "RangeIndex: 47279 entries, 0 to 47278\n",
      "Data columns (total 27 columns):\n",
      " #   Column                                        Non-Null Count  Dtype  \n",
      "---  ------                                        --------------  -----  \n",
      " 0   Demographics_Age                              47279 non-null  float64\n",
      " 1   Laboratory_BloodLeadSI                        47279 non-null  float64\n",
      " 2   Laboratory_RedCellDistributionWidth           47279 non-null  float64\n",
      " 3   Questionnaire_GeneralHealth                   47279 non-null  int64  \n",
      " 4   Laboratory_UrineAlbumin                       47279 non-null  float64\n",
      " 5   Demographics_IncomeRatio                      47279 non-null  float64\n",
      " 6   Examination_ArmCircum                         47279 non-null  float64\n",
      " 7   Laboratory_BloodCadmium                       47279 non-null  float64\n",
      " 8   Laboratory_AlbuminSI                          47279 non-null  float64\n",
      " 9   Questionnaire_SpecialHealthCareEquipment_2.0  47279 non-null  int64  \n",
      " 10  Questionnaire_JobMonths                       47279 non-null  float64\n",
      " 11  Laboratory_Creatinine                         47279 non-null  float64\n",
      " 12  Demographics_Education                        47279 non-null  int64  \n",
      " 13  Laboratory_MeanCellVolume                     47279 non-null  float64\n",
      " 14  Demographics_RaceEthnicity_3.0                47279 non-null  int64  \n",
      " 15  Questionnaire_ShortnessOfBreath_2.0           47279 non-null  int64  \n",
      " 16  Laboratory_LymphocytePercent                  47279 non-null  float64\n",
      " 17  Examination_ExBPMaxInflationLevel             47279 non-null  float64\n",
      " 18  Laboratory_Cotinine                           47279 non-null  float64\n",
      " 19  Demographics_Gender_2.0                       47279 non-null  int64  \n",
      " 20  mortstat                                      47279 non-null  int64  \n",
      " 21  permth_int                                    47279 non-null  int64  \n",
      " 22  1_year_label                                  47279 non-null  int64  \n",
      " 23  2_year_label                                  47279 non-null  int64  \n",
      " 24  3_year_label                                  47279 non-null  int64  \n",
      " 25  4_year_label                                  47279 non-null  int64  \n",
      " 26  5_year_label                                  47279 non-null  int64  \n",
      "dtypes: float64(14), int64(13)\n",
      "memory usage: 9.7 MB\n"
     ]
    }
   ],
   "source": [
    "# The UW data set features include data categories of: demographics, patient self-reporting questionnaire,\n",
    "# physical examination by a medical professional, and laboratory bloodwork results. \n",
    "\n",
    "Data_UW_20.info()"
   ]
  },
  {
   "cell_type": "markdown",
   "id": "9cb04dfe",
   "metadata": {},
   "source": [
    "### SELECT NEW DATA SET FEATURES"
   ]
  },
  {
   "cell_type": "code",
   "execution_count": 30,
   "id": "71c53393",
   "metadata": {},
   "outputs": [],
   "source": [
    "# For the new set of features, only laboratory data will be included, so several categories of less\n",
    "# reliable data (patient self reporting questionnaire, physical examination, etc.) will be deleted.\n",
    "\n",
    "# Patient age must be kept, because that is the target value, \n",
    "# so not all \"Demographic\" data can be deleted until the age column is renamed. \n",
    "\n",
    "# For NHANES data set, drop columns whose name contains 'Dietary' or 'Questionnaire' or 'Examination'\n",
    "Data_NH_200.drop(list(Data_NH_200.filter(regex='Dietary|Questionnaire|Examination')), axis=1, inplace=True)"
   ]
  },
  {
   "cell_type": "code",
   "execution_count": 31,
   "id": "9a4847a9",
   "metadata": {},
   "outputs": [
    {
     "name": "stdout",
     "output_type": "stream",
     "text": [
      "<class 'pandas.core.frame.DataFrame'>\n",
      "RangeIndex: 47279 entries, 0 to 47278\n",
      "Data columns (total 73 columns):\n",
      " #   Column                                      Non-Null Count  Dtype  \n",
      "---  ------                                      --------------  -----  \n",
      " 0   Laboratory_WhiteBloodCellCount              47279 non-null  float64\n",
      " 1   Laboratory_Cotinine                         47279 non-null  float64\n",
      " 2   Laboratory_Sodium                           47279 non-null  float64\n",
      " 3   Laboratory_MeanCellVolume                   47279 non-null  float64\n",
      " 4   Laboratory_CholesterolSI                    47279 non-null  float64\n",
      " 5   Laboratory_HepB                             47279 non-null  int64  \n",
      " 6   Laboratory_Monocyte                         47279 non-null  float64\n",
      " 7   Laboratory_UricAcid                         47279 non-null  float64\n",
      " 8   Laboratory_BloodCadmium                     47279 non-null  float64\n",
      " 9   Laboratory_SegmentedNeutrophils             47279 non-null  float64\n",
      " 10  Laboratory_GlycohemoglobinPercent           47279 non-null  float64\n",
      " 11  Laboratory_Lymphocyte                       47279 non-null  float64\n",
      " 12  Laboratory_BloodUreaNitrogenSI              47279 non-null  float64\n",
      " 13  Laboratory_BloodLeadSI                      47279 non-null  float64\n",
      " 14  Laboratory_MercuryInorganic                 47279 non-null  float64\n",
      " 15  Laboratory_Globulin                         47279 non-null  float64\n",
      " 16  Demographics_Age                            47279 non-null  float64\n",
      " 17  Laboratory_MeanCellHemoglobin               47279 non-null  float64\n",
      " 18  Laboratory_CalciumSI                        47279 non-null  float64\n",
      " 19  Laboratory_Phosphorus                       47279 non-null  float64\n",
      " 20  Laboratory_RedBloodCellCount                47279 non-null  float64\n",
      " 21  Laboratory_GlucoseSI                        47279 non-null  float64\n",
      " 22  Laboratory_MonocytePercent                  47279 non-null  float64\n",
      " 23  Laboratory_BasophilsPercent                 47279 non-null  float64\n",
      " 24  Demographics_RaceEthnicity                  47279 non-null  int64  \n",
      " 25  Laboratory_TotalProtein                     47279 non-null  float64\n",
      " 26  Laboratory_HepAAntibody                     47279 non-null  int64  \n",
      " 27  Laboratory_MeanPlateletVolume               47279 non-null  float64\n",
      " 28  Laboratory_AlanineAminotransferaseALT       47279 non-null  float64\n",
      " 29  Demographics_Education                      47279 non-null  int64  \n",
      " 30  Demographics_Citizenship                    47279 non-null  int64  \n",
      " 31  Laboratory_AspartateAminotransferaseAST     47279 non-null  float64\n",
      " 32  Laboratory_TotalBilirubin                   47279 non-null  float64\n",
      " 33  Laboratory_RedCellDistributionWidth         47279 non-null  float64\n",
      " 34  Laboratory_GammeGlutamylTransferase         47279 non-null  float64\n",
      " 35  Laboratory_Creatinine                       47279 non-null  float64\n",
      " 36  Laboratory_Chloride                         47279 non-null  float64\n",
      " 37  Laboratory_PlateletCount                    47279 non-null  float64\n",
      " 38  Laboratory_HepD                             47279 non-null  int64  \n",
      " 39  Demographics_IncomeRatio                    47279 non-null  float64\n",
      " 40  Demographics_Gender                         47279 non-null  int64  \n",
      " 41  Laboratory_Potassium                        47279 non-null  float64\n",
      " 42  Laboratory_IronSI                           47279 non-null  float64\n",
      " 43  Laboratory_Basophils                        47279 non-null  float64\n",
      " 44  Laboratory_UrineAlbumin                     47279 non-null  float64\n",
      " 45  Laboratory_EosinophilsPercent               47279 non-null  float64\n",
      " 46  Laboratory_SegmentedNeutrophilsPercent      47279 non-null  float64\n",
      " 47  Laboratory_Bicarbonate                      47279 non-null  float64\n",
      " 48  Laboratory_AlbuminSI                        47279 non-null  float64\n",
      " 49  Laboratory_Osmolality                       47279 non-null  float64\n",
      " 50  Laboratory_BloodMercury                     47279 non-null  float64\n",
      " 51  Demographics_ReleaseCycle                   47279 non-null  int64  \n",
      " 52  Demographics_HouseholdSize                  47279 non-null  int64  \n",
      " 53  Laboratory_Eosinophils                      47279 non-null  float64\n",
      " 54  Demographics_MaritalStatus                  47279 non-null  int64  \n",
      " 55  Laboratory_HepBCoreAntibody                 47279 non-null  int64  \n",
      " 56  Laboratory_HepBSurfaceAntibody              47279 non-null  int64  \n",
      " 57  Laboratory_LymphocytePercent                47279 non-null  float64\n",
      " 58  Laboratory_Hemoglobin                       47279 non-null  float64\n",
      " 59  Laboratory_CRP                              47279 non-null  float64\n",
      " 60  Laboratory_AlkalinePhosphatase              47279 non-null  float64\n",
      " 61  Laboratory_MeanCellHemoglobinConcentration  47279 non-null  float64\n",
      " 62  Laboratory_Hematocrit                       47279 non-null  float64\n",
      " 63  Laboratory_Triglyceride                     47279 non-null  float64\n",
      " 64  Laboratory_HDLCholesterol                   47279 non-null  float64\n",
      " 65  Laboratory_LDLCholesterol                   47279 non-null  float64\n",
      " 66  mortstat                                    47279 non-null  int64  \n",
      " 67  permth_int                                  47279 non-null  int64  \n",
      " 68  1_year_label                                47279 non-null  int64  \n",
      " 69  2_year_label                                47279 non-null  int64  \n",
      " 70  3_year_label                                47279 non-null  int64  \n",
      " 71  4_year_label                                47279 non-null  int64  \n",
      " 72  5_year_label                                47279 non-null  int64  \n",
      "dtypes: float64(54), int64(19)\n",
      "memory usage: 26.3 MB\n"
     ]
    }
   ],
   "source": [
    "Data_NH_200.info()"
   ]
  },
  {
   "cell_type": "code",
   "execution_count": 32,
   "id": "9ece1cbf",
   "metadata": {},
   "outputs": [],
   "source": [
    "# Need to finish removing columns, determine meaning behind year labels, and change name of \"age\" column."
   ]
  },
  {
   "cell_type": "markdown",
   "id": "8e9a1493",
   "metadata": {},
   "source": [
    "### Handling Data Sets that are too large"
   ]
  },
  {
   "cell_type": "markdown",
   "id": "03dd0aac",
   "metadata": {},
   "source": [
    "** NOTE ** File Size Problem\n",
    "\n",
    "I tried to load to GitHub the following two data sets:\n",
    "\n",
    "    Data_UW_20 (19 features, 47279 observations)\n",
    "    Data_NH_200 (223 features, 47279 observations)\n",
    "\n",
    "but both data files were too large for GitHub to accept.\n",
    "\n",
    "Therefore, I will have to do feature selection and probably some reduction in the number of observations \n",
    "in each dataset from my computer. Then, I will upload to GitHub the reduced size data sets:\n",
    "\n",
    "    Data_UW_20_R --- with reduced number of observations\n",
    "    Data_NH_20 --- with reduced number of observations, and features reduced from 223 down to 20\n",
    "\n",
    "When I upload my Jupyter Notebook to GitHub, I will leave the feature selection code and observation reduction code in the Jupyter Notebook, but will have it commented out so that the Jupyter Notebook code can be run. The active Jupyter Notebook code will begin with Baseline Modeling, and running the initial Regression models on the two sets of data. "
   ]
  },
  {
   "cell_type": "code",
   "execution_count": null,
   "id": "365c1c85",
   "metadata": {},
   "outputs": [],
   "source": []
  },
  {
   "cell_type": "code",
   "execution_count": null,
   "id": "4b2631e7",
   "metadata": {},
   "outputs": [],
   "source": []
  },
  {
   "cell_type": "code",
   "execution_count": null,
   "id": "9c551e8b",
   "metadata": {},
   "outputs": [],
   "source": []
  }
 ],
 "metadata": {
  "kernelspec": {
   "display_name": "Python 3 (ipykernel)",
   "language": "python",
   "name": "python3"
  },
  "language_info": {
   "codemirror_mode": {
    "name": "ipython",
    "version": 3
   },
   "file_extension": ".py",
   "mimetype": "text/x-python",
   "name": "python",
   "nbconvert_exporter": "python",
   "pygments_lexer": "ipython3",
   "version": "3.11.7"
  }
 },
 "nbformat": 4,
 "nbformat_minor": 5
}
